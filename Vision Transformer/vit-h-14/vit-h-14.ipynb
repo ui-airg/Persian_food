{
 "cells": [
  {
   "cell_type": "raw",
   "id": "1bbfe871",
   "metadata": {
    "id": "f1N8tkjjazXC",
    "papermill": {
     "duration": 0.011906,
     "end_time": "2024-09-18T23:38:53.323252",
     "exception": false,
     "start_time": "2024-09-18T23:38:53.311346",
     "status": "completed"
    },
    "tags": []
   },
   "source": [
    "# **Source**\n",
    "\n",
    "\n",
    "\n",
    "\n",
    "[YouTube](https://youtu.be/awyWND506NY) , [GitHub\n",
    "](https://github.com/AarohiSingla/Image-Classification-Using-Vision-transformer)"
   ]
  },
  {
   "cell_type": "markdown",
   "id": "4da1bae2",
   "metadata": {
    "id": "jqliht5Vsn6Y",
    "papermill": {
     "duration": 0.010919,
     "end_time": "2024-09-18T23:38:53.346007",
     "exception": false,
     "start_time": "2024-09-18T23:38:53.335088",
     "status": "completed"
    },
    "tags": []
   },
   "source": [
    "# **Import and Instalization**"
   ]
  },
  {
   "cell_type": "code",
   "execution_count": 1,
   "id": "7c453547",
   "metadata": {
    "execution": {
     "iopub.execute_input": "2024-09-18T23:38:53.369638Z",
     "iopub.status.busy": "2024-09-18T23:38:53.369260Z",
     "iopub.status.idle": "2024-09-18T23:38:58.228738Z",
     "shell.execute_reply": "2024-09-18T23:38:58.227865Z"
    },
    "executionInfo": {
     "elapsed": 465,
     "status": "ok",
     "timestamp": 1726322834581,
     "user": {
      "displayName": "cs department food",
      "userId": "17051127671269556399"
     },
     "user_tz": -210
    },
    "id": "_3_vd3GTWh2R",
    "papermill": {
     "duration": 4.874025,
     "end_time": "2024-09-18T23:38:58.231074",
     "exception": false,
     "start_time": "2024-09-18T23:38:53.357049",
     "status": "completed"
    },
    "tags": []
   },
   "outputs": [],
   "source": [
    "import matplotlib.pyplot as plt\n",
    "import torch\n",
    "import torchvision\n",
    "import os\n",
    "from torch import nn\n",
    "from torchvision import transforms"
   ]
  },
  {
   "cell_type": "code",
   "execution_count": 2,
   "id": "e56c6c18",
   "metadata": {
    "execution": {
     "iopub.execute_input": "2024-09-18T23:38:58.255730Z",
     "iopub.status.busy": "2024-09-18T23:38:58.254798Z",
     "iopub.status.idle": "2024-09-18T23:39:12.258784Z",
     "shell.execute_reply": "2024-09-18T23:39:12.257451Z"
    },
    "executionInfo": {
     "elapsed": 4759,
     "status": "ok",
     "timestamp": 1726322839728,
     "user": {
      "displayName": "cs department food",
      "userId": "17051127671269556399"
     },
     "user_tz": -210
    },
    "id": "1aznOJDJWpQg",
    "outputId": "ef01671d-e135-4df8-93ae-73bdbff12a34",
    "papermill": {
     "duration": 14.018369,
     "end_time": "2024-09-18T23:39:12.261045",
     "exception": false,
     "start_time": "2024-09-18T23:38:58.242676",
     "status": "completed"
    },
    "tags": []
   },
   "outputs": [
    {
     "name": "stdout",
     "output_type": "stream",
     "text": [
      "Requirement already satisfied: torchinfo in /opt/conda/lib/python3.10/site-packages (1.8.0)\r\n",
      "Note: you may need to restart the kernel to use updated packages.\n"
     ]
    }
   ],
   "source": [
    "pip install torchinfo"
   ]
  },
  {
   "cell_type": "markdown",
   "id": "3d036e28",
   "metadata": {
    "id": "dJHmuzq8seI1",
    "papermill": {
     "duration": 0.0109,
     "end_time": "2024-09-18T23:39:12.283276",
     "exception": false,
     "start_time": "2024-09-18T23:39:12.272376",
     "status": "completed"
    },
    "tags": []
   },
   "source": [
    "# **Access to dataset**"
   ]
  },
  {
   "cell_type": "code",
   "execution_count": 3,
   "id": "db337cf3",
   "metadata": {
    "execution": {
     "iopub.execute_input": "2024-09-18T23:39:12.307913Z",
     "iopub.status.busy": "2024-09-18T23:39:12.307205Z",
     "iopub.status.idle": "2024-09-18T23:39:12.311628Z",
     "shell.execute_reply": "2024-09-18T23:39:12.310732Z"
    },
    "executionInfo": {
     "elapsed": 2311,
     "status": "ok",
     "timestamp": 1726322842036,
     "user": {
      "displayName": "cs department food",
      "userId": "17051127671269556399"
     },
     "user_tz": -210
    },
    "id": "nqiDhQhOWvU3",
    "outputId": "b70e31c5-0a87-4fa2-d59f-3b9783df96eb",
    "papermill": {
     "duration": 0.01892,
     "end_time": "2024-09-18T23:39:12.313591",
     "exception": false,
     "start_time": "2024-09-18T23:39:12.294671",
     "status": "completed"
    },
    "tags": []
   },
   "outputs": [],
   "source": [
    "#dataset\n",
    "#from google.kaggl import drive\n",
    "#drive.mount('/content/drive')"
   ]
  },
  {
   "cell_type": "code",
   "execution_count": 4,
   "id": "960d085b",
   "metadata": {
    "execution": {
     "iopub.execute_input": "2024-09-18T23:39:12.338044Z",
     "iopub.status.busy": "2024-09-18T23:39:12.337163Z",
     "iopub.status.idle": "2024-09-18T23:39:12.341968Z",
     "shell.execute_reply": "2024-09-18T23:39:12.341064Z"
    },
    "executionInfo": {
     "elapsed": 6,
     "status": "ok",
     "timestamp": 1726322842036,
     "user": {
      "displayName": "cs department food",
      "userId": "17051127671269556399"
     },
     "user_tz": -210
    },
    "id": "W99NyRVJWxKq",
    "papermill": {
     "duration": 0.018862,
     "end_time": "2024-09-18T23:39:12.343858",
     "exception": false,
     "start_time": "2024-09-18T23:39:12.324996",
     "status": "completed"
    },
    "tags": []
   },
   "outputs": [],
   "source": [
    "train_dir = '/kaggle/input/persian-food-8701515/Persian_Food_8shahrivar(train80,test20)/train'\n",
    "test_dir = '/kaggle/input/persian-food-8701515/Persian_Food_8shahrivar(train80,test20)/test'\n"
   ]
  },
  {
   "cell_type": "code",
   "execution_count": 5,
   "id": "5c268519",
   "metadata": {
    "execution": {
     "iopub.execute_input": "2024-09-18T23:39:12.367619Z",
     "iopub.status.busy": "2024-09-18T23:39:12.367239Z",
     "iopub.status.idle": "2024-09-18T23:39:12.427939Z",
     "shell.execute_reply": "2024-09-18T23:39:12.427029Z"
    },
    "executionInfo": {
     "elapsed": 6,
     "status": "ok",
     "timestamp": 1726322842036,
     "user": {
      "displayName": "cs department food",
      "userId": "17051127671269556399"
     },
     "user_tz": -210
    },
    "id": "ejm3sQdVWilb",
    "outputId": "2dd9c1b1-6f99-4ceb-ac88-8f7341b0a57d",
    "papermill": {
     "duration": 0.074891,
     "end_time": "2024-09-18T23:39:12.429946",
     "exception": false,
     "start_time": "2024-09-18T23:39:12.355055",
     "status": "completed"
    },
    "tags": []
   },
   "outputs": [
    {
     "data": {
      "text/plain": [
       "'cuda'"
      ]
     },
     "execution_count": 5,
     "metadata": {},
     "output_type": "execute_result"
    }
   ],
   "source": [
    "device = \"cuda\" if torch.cuda.is_available() else \"cpu\"\n",
    "device"
   ]
  },
  {
   "cell_type": "markdown",
   "id": "44e1441f",
   "metadata": {
    "id": "48nBgsh-ty8K",
    "papermill": {
     "duration": 0.011352,
     "end_time": "2024-09-18T23:39:12.452750",
     "exception": false,
     "start_time": "2024-09-18T23:39:12.441398",
     "status": "completed"
    },
    "tags": []
   },
   "source": [
    "# **The functions we will use**"
   ]
  },
  {
   "cell_type": "code",
   "execution_count": 6,
   "id": "aedf8c49",
   "metadata": {
    "execution": {
     "iopub.execute_input": "2024-09-18T23:39:12.477590Z",
     "iopub.status.busy": "2024-09-18T23:39:12.477182Z",
     "iopub.status.idle": "2024-09-18T23:39:12.579619Z",
     "shell.execute_reply": "2024-09-18T23:39:12.578638Z"
    },
    "executionInfo": {
     "elapsed": 5,
     "status": "ok",
     "timestamp": 1726322842036,
     "user": {
      "displayName": "cs department food",
      "userId": "17051127671269556399"
     },
     "user_tz": -210
    },
    "id": "E3eEBjeuWYRp",
    "papermill": {
     "duration": 0.117749,
     "end_time": "2024-09-18T23:39:12.582096",
     "exception": false,
     "start_time": "2024-09-18T23:39:12.464347",
     "status": "completed"
    },
    "tags": []
   },
   "outputs": [],
   "source": [
    "\"\"\"\n",
    "A series of helper functions used throughout the course.\n",
    "\n",
    "If a function gets defined once and could be used over and over, it'll go in here.\n",
    "\"\"\"\n",
    "import torch\n",
    "import matplotlib.pyplot as plt\n",
    "import numpy as np\n",
    "\n",
    "from torch import nn\n",
    "import os\n",
    "import zipfile\n",
    "from pathlib import Path\n",
    "import requests\n",
    "import os\n",
    "\n",
    "\n",
    "\n",
    "# Plot linear data or training and test and predictions (optional)\n",
    "def plot_predictions(\n",
    "    train_data, train_labels, test_data, test_labels, predictions=None\n",
    "):\n",
    "    \"\"\"\n",
    "  Plots linear training data and test data and compares predictions.\n",
    "  \"\"\"\n",
    "    plt.figure(figsize=(10, 7))\n",
    "\n",
    "    # Plot training data in blue\n",
    "    plt.scatter(train_data, train_labels, c=\"b\", s=4, label=\"Training data\")\n",
    "\n",
    "    # Plot test data in green\n",
    "    plt.scatter(test_data, test_labels, c=\"g\", s=4, label=\"Testing data\")\n",
    "\n",
    "    if predictions is not None:\n",
    "        # Plot the predictions in red (predictions were made on the test data)\n",
    "        plt.scatter(test_data, predictions, c=\"r\", s=4, label=\"Predictions\")\n",
    "\n",
    "    # Show the legend\n",
    "    plt.legend(prop={\"size\": 14})\n",
    "\n",
    "\n",
    "# Calculate accuracy (a classification metric)\n",
    "def accuracy_fn(y_true, y_pred):\n",
    "    \"\"\"Calculates accuracy between truth labels and predictions.\n",
    "\n",
    "    Args:\n",
    "        y_true (torch.Tensor): Truth labels for predictions.\n",
    "        y_pred (torch.Tensor): Predictions to be compared to predictions.\n",
    "\n",
    "    Returns:\n",
    "        [torch.float]: Accuracy value between y_true and y_pred, e.g. 78.45\n",
    "    \"\"\"\n",
    "    correct = torch.eq(y_true, y_pred).sum().item()\n",
    "    acc = (correct / len(y_pred)) * 100\n",
    "    return acc\n",
    "\n",
    "\n",
    "def print_train_time(start, end, device=None):\n",
    "    \"\"\"Prints difference between start and end time.\n",
    "\n",
    "    Args:\n",
    "        start (float): Start time of computation (preferred in timeit format).\n",
    "        end (float): End time of computation.\n",
    "        device ([type], optional): Device that compute is running on. Defaults to None.\n",
    "\n",
    "    Returns:\n",
    "        float: time between start and end in seconds (higher is longer).\n",
    "    \"\"\"\n",
    "    total_time = end - start\n",
    "    print(f\"\\nTrain time on {device}: {total_time:.3f} seconds\")\n",
    "    return total_time\n",
    "\n",
    "\n",
    "# Plot loss curves of a model\n",
    "def plot_loss_curves(results):\n",
    "    \"\"\"Plots training curves of a results dictionary.\n",
    "\n",
    "    Args:\n",
    "        results (dict): dictionary containing list of values, e.g.\n",
    "            {\"train_loss\": [...],\n",
    "             \"train_acc\": [...],\n",
    "             \"test_loss\": [...],\n",
    "             \"test_acc\": [...]}\n",
    "    \"\"\"\n",
    "    loss = results[\"train_loss\"]\n",
    "    test_loss = results[\"test_loss\"]\n",
    "\n",
    "    accuracy = results[\"train_acc\"]\n",
    "    test_accuracy = results[\"test_acc\"]\n",
    "\n",
    "    epochs = range(len(results[\"train_loss\"]))\n",
    "\n",
    "    plt.figure(figsize=(15, 7))\n",
    "\n",
    "    # Plot loss\n",
    "    plt.subplot(1, 2, 1)\n",
    "    plt.plot(epochs, loss, label=\"train_loss\")\n",
    "    plt.plot(epochs, test_loss, label=\"test_loss\")\n",
    "    plt.title(\"Loss\")\n",
    "    plt.xlabel(\"Epochs\")\n",
    "    plt.legend()\n",
    "\n",
    "    # Plot accuracy\n",
    "    plt.subplot(1, 2, 2)\n",
    "    plt.plot(epochs, accuracy, label=\"train_accuracy\")\n",
    "    plt.plot(epochs, test_accuracy, label=\"test_accuracy\")\n",
    "    plt.title(\"Accuracy\")\n",
    "    plt.xlabel(\"Epochs\")\n",
    "    plt.legend()\n",
    "\n",
    "\n",
    "# Pred and plot image function from notebook 04\n",
    "# See creation: https://www.learnpytorch.io/04_pytorch_custom_datasets/#113-putting-custom-image-prediction-together-building-a-function\n",
    "from typing import List\n",
    "import torchvision\n",
    "\n",
    "\n",
    "def pred_and_plot_image(\n",
    "    model: torch.nn.Module,\n",
    "    image_path: str,\n",
    "    class_names: List[str] = None,\n",
    "    transform=None,\n",
    "    device: torch.device = \"cuda\" if torch.cuda.is_available() else \"cpu\",\n",
    "):\n",
    "    \"\"\"Makes a prediction on a target image with a trained model and plots the image.\n",
    "\n",
    "    Args:\n",
    "        model (torch.nn.Module): trained PyTorch image classification model.\n",
    "        image_path (str): filepath to target image.\n",
    "        class_names (List[str], optional): different class names for target image. Defaults to None.\n",
    "        transform (_type_, optional): transform of target image. Defaults to None.\n",
    "        device (torch.device, optional): target device to compute on. Defaults to \"cuda\" if torch.cuda.is_available() else \"cpu\".\n",
    "\n",
    "    Returns:\n",
    "        Matplotlib plot of target image and model prediction as title.\n",
    "\n",
    "    Example usage:\n",
    "        pred_and_plot_image(model=model,\n",
    "                            image=\"some_image.jpeg\",\n",
    "                            class_names=[\"class_1\", \"class_2\", \"class_3\"],\n",
    "                            transform=torchvision.transforms.ToTensor(),\n",
    "                            device=device)\n",
    "    \"\"\"\n",
    "\n",
    "    # 1. Load in image and convert the tensor values to float32\n",
    "    target_image = torchvision.io.read_image(str(image_path)).type(torch.float32)\n",
    "\n",
    "    # 2. Divide the image pixel values by 255 to get them between [0, 1]\n",
    "    target_image = target_image / 255.0\n",
    "\n",
    "    # 3. Transform if necessary\n",
    "    if transform:\n",
    "        target_image = transform(target_image)\n",
    "\n",
    "    # 4. Make sure the model is on the target device\n",
    "    model.to(device)\n",
    "\n",
    "    # 5. Turn on model evaluation mode and inference mode\n",
    "    model.eval()\n",
    "    with torch.inference_mode():\n",
    "        # Add an extra dimension to the image\n",
    "        target_image = target_image.unsqueeze(dim=0)\n",
    "\n",
    "        # Make a prediction on image with an extra dimension and send it to the target device\n",
    "        target_image_pred = model(target_image.to(device))\n",
    "\n",
    "    # 6. Convert logits -> prediction probabilities (using torch.softmax() for multi-class classification)\n",
    "    target_image_pred_probs = torch.softmax(target_image_pred, dim=1)\n",
    "\n",
    "    # 7. Convert prediction probabilities -> prediction labels\n",
    "    target_image_pred_label = torch.argmax(target_image_pred_probs, dim=1)\n",
    "\n",
    "    # 8. Plot the image alongside the prediction and prediction probability\n",
    "    plt.imshow(\n",
    "        target_image.squeeze().permute(1, 2, 0)\n",
    "    )  # make sure it's the right size for matplotlib\n",
    "    if class_names:\n",
    "        title = f\"Pred: {class_names[target_image_pred_label.cpu()]} | Prob: {target_image_pred_probs.max().cpu():.3f}\"\n",
    "    else:\n",
    "        title = f\"Pred: {target_image_pred_label} | Prob: {target_image_pred_probs.max().cpu():.3f}\"\n",
    "    plt.title(title)\n",
    "    plt.axis(False)\n",
    "\n",
    "def set_seeds(seed: int=42):\n",
    "    \"\"\"Sets random sets for torch operations.\n",
    "\n",
    "    Args:\n",
    "        seed (int, optional): Random seed to set. Defaults to 42.\n",
    "    \"\"\"\n",
    "    # Set the seed for general torch operations\n",
    "    torch.manual_seed(seed)\n",
    "    # Set the seed for CUDA torch operations (ones that happen on the GPU)\n",
    "    torch.cuda.manual_seed(seed)\n"
   ]
  },
  {
   "cell_type": "code",
   "execution_count": 7,
   "id": "3271d94a",
   "metadata": {
    "execution": {
     "iopub.execute_input": "2024-09-18T23:39:12.607163Z",
     "iopub.status.busy": "2024-09-18T23:39:12.606730Z",
     "iopub.status.idle": "2024-09-18T23:39:12.713001Z",
     "shell.execute_reply": "2024-09-18T23:39:12.712191Z"
    },
    "executionInfo": {
     "elapsed": 4,
     "status": "ok",
     "timestamp": 1726322842036,
     "user": {
      "displayName": "cs department food",
      "userId": "17051127671269556399"
     },
     "user_tz": -210
    },
    "id": "En8FvVJlXdO0",
    "papermill": {
     "duration": 0.121506,
     "end_time": "2024-09-18T23:39:12.715320",
     "exception": false,
     "start_time": "2024-09-18T23:39:12.593814",
     "status": "completed"
    },
    "tags": []
   },
   "outputs": [],
   "source": [
    "\"\"\"\n",
    "Contains functions for training and testing a PyTorch model.\n",
    "\"\"\"\n",
    "import torch\n",
    "\n",
    "from tqdm.auto import tqdm\n",
    "from typing import Dict, List, Tuple\n",
    "\n",
    "def train_step(model: torch.nn.Module,\n",
    "               dataloader: torch.utils.data.DataLoader,\n",
    "               loss_fn: torch.nn.Module,\n",
    "               optimizer: torch.optim.Optimizer,\n",
    "               device: torch.device) -> Tuple[float, float]:\n",
    "    \"\"\"Trains a PyTorch model for a single epoch.\n",
    "\n",
    "    Turns a target PyTorch model to training mode and then\n",
    "    runs through all of the required training steps (forward\n",
    "    pass, loss calculation, optimizer step).\n",
    "\n",
    "    Args:\n",
    "    model: A PyTorch model to be trained.\n",
    "    dataloader: A DataLoader instance for the model to be trained on.\n",
    "    loss_fn: A PyTorch loss function to minimize.\n",
    "    optimizer: A PyTorch optimizer to help minimize the loss function.\n",
    "    device: A target device to compute on (e.g. \"cuda\" or \"cpu\").\n",
    "\n",
    "    Returns:\n",
    "    A tuple of training loss and training accuracy metrics.\n",
    "    In the form (train_loss, train_accuracy). For example:\n",
    "\n",
    "    (0.1112, 0.8743)\n",
    "    \"\"\"\n",
    "    # Put model in train mode\n",
    "    model.train()\n",
    "\n",
    "    # Setup train loss and train accuracy values\n",
    "    train_loss, train_acc = 0, 0\n",
    "\n",
    "    # Loop through data loader data batches\n",
    "    for batch, (X, y) in enumerate(dataloader):\n",
    "        # Send data to target device\n",
    "        X, y = X.to(device), y.to(device)\n",
    "\n",
    "        # 1. Forward pass\n",
    "        y_pred = model(X)\n",
    "\n",
    "        # 2. Calculate  and accumulate loss\n",
    "        loss = loss_fn(y_pred, y)\n",
    "        train_loss += loss.item()\n",
    "\n",
    "        # 3. Optimizer zero grad\n",
    "        optimizer.zero_grad()\n",
    "\n",
    "        # 4. Loss backward\n",
    "        loss.backward()\n",
    "\n",
    "        # 5. Optimizer step\n",
    "        optimizer.step()\n",
    "\n",
    "        # Calculate and accumulate accuracy metric across all batches\n",
    "        y_pred_class = torch.argmax(torch.softmax(y_pred, dim=1), dim=1)\n",
    "        train_acc += (y_pred_class == y).sum().item()/len(y_pred)\n",
    "\n",
    "    # Adjust metrics to get average loss and accuracy per batch\n",
    "    train_loss = train_loss / len(dataloader)\n",
    "    train_acc = train_acc / len(dataloader)\n",
    "    return train_loss, train_acc\n",
    "\n",
    "def test_step(model: torch.nn.Module,\n",
    "              dataloader: torch.utils.data.DataLoader,\n",
    "              loss_fn: torch.nn.Module,\n",
    "              device: torch.device) -> Tuple[float, float]:\n",
    "    \"\"\"Tests a PyTorch model for a single epoch.\n",
    "\n",
    "    Turns a target PyTorch model to \"eval\" mode and then performs\n",
    "    a forward pass on a testing dataset.\n",
    "\n",
    "    Args:\n",
    "    model: A PyTorch model to be tested.\n",
    "    dataloader: A DataLoader instance for the model to be tested on.\n",
    "    loss_fn: A PyTorch loss function to calculate loss on the test data.\n",
    "    device: A target device to compute on (e.g. \"cuda\" or \"cpu\").\n",
    "\n",
    "    Returns:\n",
    "    A tuple of testing loss and testing accuracy metrics.\n",
    "    In the form (test_loss, test_accuracy). For example:\n",
    "\n",
    "    (0.0223, 0.8985)\n",
    "    \"\"\"\n",
    "    # Put model in eval mode\n",
    "    model.eval()\n",
    "\n",
    "    # Setup test loss and test accuracy values\n",
    "    test_loss, test_acc = 0, 0\n",
    "\n",
    "    # Turn on inference context manager\n",
    "    with torch.inference_mode():\n",
    "        # Loop through DataLoader batches\n",
    "        for batch, (X, y) in enumerate(dataloader):\n",
    "            # Send data to target device\n",
    "            X, y = X.to(device), y.to(device)\n",
    "\n",
    "            # 1. Forward pass\n",
    "            test_pred_logits = model(X)\n",
    "\n",
    "            # 2. Calculate and accumulate loss\n",
    "            loss = loss_fn(test_pred_logits, y)\n",
    "            test_loss += loss.item()\n",
    "\n",
    "            # Calculate and accumulate accuracy\n",
    "            test_pred_labels = test_pred_logits.argmax(dim=1)\n",
    "            test_acc += ((test_pred_labels == y).sum().item()/len(test_pred_labels))\n",
    "\n",
    "    # Adjust metrics to get average loss and accuracy per batch\n",
    "    test_loss = test_loss / len(dataloader)\n",
    "    test_acc = test_acc / len(dataloader)\n",
    "    return test_loss, test_acc\n",
    "\n",
    "def en_train(model: torch.nn.Module,\n",
    "          train_dataloader: torch.utils.data.DataLoader,\n",
    "          test_dataloader: torch.utils.data.DataLoader,\n",
    "          optimizer: torch.optim.Optimizer,\n",
    "          loss_fn: torch.nn.Module,\n",
    "          epochs: int,\n",
    "          device: torch.device) -> Dict[str, List]:\n",
    "    \"\"\"Trains and tests a PyTorch model.\n",
    "\n",
    "    Passes a target PyTorch models through train_step() and test_step()\n",
    "    functions for a number of epochs, training and testing the model\n",
    "    in the same epoch loop.\n",
    "\n",
    "    Calculates, prints and stores evaluation metrics throughout.\n",
    "\n",
    "    Args:\n",
    "    model: A PyTorch model to be trained and tested.\n",
    "    train_dataloader: A DataLoader instance for the model to be trained on.\n",
    "    test_dataloader: A DataLoader instance for the model to be tested on.\n",
    "    optimizer: A PyTorch optimizer to help minimize the loss function.\n",
    "    loss_fn: A PyTorch loss function to calculate loss on both datasets.\n",
    "    epochs: An integer indicating how many epochs to train for.\n",
    "    device: A target device to compute on (e.g. \"cuda\" or \"cpu\").\n",
    "\n",
    "    Returns:\n",
    "    A dictionary of training and testing loss as well as training and\n",
    "    testing accuracy metrics. Each metric has a value in a list for\n",
    "    each epoch.\n",
    "    In the form: {train_loss: [...],\n",
    "              train_acc: [...],\n",
    "              test_loss: [...],\n",
    "              test_acc: [...]}\n",
    "    For example if training for epochs=2:\n",
    "             {train_loss: [2.0616, 1.0537],\n",
    "              train_acc: [0.3945, 0.3945],\n",
    "              test_loss: [1.2641, 1.5706],\n",
    "              test_acc: [0.3400, 0.2973]}\n",
    "    \"\"\"\n",
    "    # Create empty results dictionary\n",
    "    results = {\"train_loss\": [],\n",
    "               \"train_acc\": [],\n",
    "               \"test_loss\": [],\n",
    "               \"test_acc\": []\n",
    "    }\n",
    "\n",
    "    # Make sure model on target device\n",
    "    model.to(device)\n",
    "\n",
    "    # Loop through training and testing steps for a number of epochs\n",
    "    for epoch in tqdm(range(epochs)):\n",
    "        train_loss, train_acc = train_step(model=model,\n",
    "                                          dataloader=train_dataloader,\n",
    "                                          loss_fn=loss_fn,\n",
    "                                          optimizer=optimizer,\n",
    "                                          device=device)\n",
    "        test_loss, test_acc = test_step(model=model,\n",
    "          dataloader=test_dataloader,\n",
    "          loss_fn=loss_fn,\n",
    "          device=device)\n",
    "\n",
    "        # Print out what's happening\n",
    "        print(\n",
    "          f\"Epoch: {epoch+1} | \"\n",
    "          f\"train_loss: {train_loss:.4f} | \"\n",
    "          f\"train_acc: {train_acc:.4f} | \"\n",
    "          f\"test_loss: {test_loss:.4f} | \"\n",
    "          f\"test_acc: {test_acc:.4f}\"\n",
    "        )\n",
    "\n",
    "        # Update results dictionary\n",
    "        results[\"train_loss\"].append(train_loss)\n",
    "        results[\"train_acc\"].append(train_acc)\n",
    "        results[\"test_loss\"].append(test_loss)\n",
    "        results[\"test_acc\"].append(test_acc)\n",
    "\n",
    "    # Return the filled results at the end of the epochs\n",
    "    return results"
   ]
  },
  {
   "cell_type": "code",
   "execution_count": 8,
   "id": "58a1a378",
   "metadata": {
    "execution": {
     "iopub.execute_input": "2024-09-18T23:39:12.740252Z",
     "iopub.status.busy": "2024-09-18T23:39:12.739393Z",
     "iopub.status.idle": "2024-09-18T23:39:12.751530Z",
     "shell.execute_reply": "2024-09-18T23:39:12.750593Z"
    },
    "executionInfo": {
     "elapsed": 4,
     "status": "ok",
     "timestamp": 1726322842036,
     "user": {
      "displayName": "cs department food",
      "userId": "17051127671269556399"
     },
     "user_tz": -210
    },
    "id": "DBWiMIoZXjX2",
    "papermill": {
     "duration": 0.026498,
     "end_time": "2024-09-18T23:39:12.753391",
     "exception": false,
     "start_time": "2024-09-18T23:39:12.726893",
     "status": "completed"
    },
    "tags": []
   },
   "outputs": [],
   "source": [
    "\"\"\"\n",
    "Utility functions to make predictions.\n",
    "\n",
    "Main reference for code creation: https://www.learnpytorch.io/06_pytorch_transfer_learning/#6-make-predictions-on-images-from-the-test-set\n",
    "\"\"\"\n",
    "import torch\n",
    "import torchvision\n",
    "from torchvision import transforms\n",
    "import matplotlib.pyplot as plt\n",
    "\n",
    "from typing import List, Tuple\n",
    "\n",
    "from PIL import Image\n",
    "\n",
    "# Set device\n",
    "device = \"cuda\" if torch.cuda.is_available() else \"cpu\"\n",
    "\n",
    "# Predict on a target image with a target model\n",
    "# Function created in: https://www.learnpytorch.io/06_pytorch_transfer_learning/#6-make-predictions-on-images-from-the-test-set\n",
    "def pred_and_plot_image(\n",
    "    model: torch.nn.Module,\n",
    "    class_names: List[str],\n",
    "    image_path: str,\n",
    "    image_size: Tuple[int, int] = (518, 518),\n",
    "    transform: torchvision.transforms = None,\n",
    "    device: torch.device = device,\n",
    "):\n",
    "    \"\"\"Predicts on a target image with a target model.\n",
    "\n",
    "    Args:\n",
    "        model (torch.nn.Module): A trained (or untrained) PyTorch model to predict on an image.\n",
    "        class_names (List[str]): A list of target classes to map predictions to.\n",
    "        image_path (str): Filepath to target image to predict on.\n",
    "        image_size (Tuple[int, int], optional): Size to transform target image to. Defaults to (224, 224).\n",
    "        transform (torchvision.transforms, optional): Transform to perform on image. Defaults to None which uses ImageNet normalization.\n",
    "        device (torch.device, optional): Target device to perform prediction on. Defaults to device.\n",
    "    \"\"\"\n",
    "\n",
    "    # Open image\n",
    "    img = Image.open(image_path)\n",
    "\n",
    "    # Create transformation for image (if one doesn't exist)\n",
    "    if transform is not None:\n",
    "        image_transform = transform\n",
    "    else:\n",
    "        image_transform = transforms.Compose(\n",
    "            [\n",
    "                transforms.Resize(image_size),\n",
    "                transforms.ToTensor(),\n",
    "                transforms.Normalize(\n",
    "                    mean=[0.485, 0.456, 0.406], std=[0.229, 0.224, 0.225]\n",
    "                ),\n",
    "            ]\n",
    "        )\n",
    "\n",
    "    ### Predict on image ###\n",
    "\n",
    "    # Make sure the model is on the target device\n",
    "    model.to(device)\n",
    "\n",
    "    # Turn on model evaluation mode and inference mode\n",
    "    model.eval()\n",
    "    with torch.inference_mode():\n",
    "        # Transform and add an extra dimension to image (model requires samples in [batch_size, color_channels, height, width])\n",
    "        transformed_image = image_transform(img).unsqueeze(dim=0)\n",
    "\n",
    "        # Make a prediction on image with an extra dimension and send it to the target device\n",
    "        target_image_pred = model(transformed_image.to(device))\n",
    "\n",
    "    # Convert logits -> prediction probabilities (using torch.softmax() for multi-class classification)\n",
    "    target_image_pred_probs = torch.softmax(target_image_pred, dim=1)\n",
    "\n",
    "    # Convert prediction probabilities -> prediction labels\n",
    "    target_image_pred_label = torch.argmax(target_image_pred_probs, dim=1)\n",
    "\n",
    "    # Plot image with predicted label and probability\n",
    "    plt.figure()\n",
    "    plt.imshow(img)\n",
    "    plt.title(\n",
    "        f\"Pred: {class_names[target_image_pred_label]} | Prob: {target_image_pred_probs.max():.3f}\"\n",
    "    )\n",
    "    plt.axis(False)\n"
   ]
  },
  {
   "cell_type": "markdown",
   "id": "b9c56f30",
   "metadata": {
    "id": "NVc7DBqjuIGh",
    "papermill": {
     "duration": 0.010947,
     "end_time": "2024-09-18T23:39:12.776249",
     "exception": false,
     "start_time": "2024-09-18T23:39:12.765302",
     "status": "completed"
    },
    "tags": []
   },
   "source": [
    "# **Pre-training**"
   ]
  },
  {
   "cell_type": "code",
   "execution_count": 9,
   "id": "50cd12bb",
   "metadata": {
    "execution": {
     "iopub.execute_input": "2024-09-18T23:39:12.800896Z",
     "iopub.status.busy": "2024-09-18T23:39:12.800469Z",
     "iopub.status.idle": "2024-09-18T23:39:36.349337Z",
     "shell.execute_reply": "2024-09-18T23:39:36.348295Z"
    },
    "executionInfo": {
     "elapsed": 76729,
     "status": "ok",
     "timestamp": 1726322918761,
     "user": {
      "displayName": "cs department food",
      "userId": "17051127671269556399"
     },
     "user_tz": -210
    },
    "id": "WCTBI1htWkQm",
    "outputId": "5846cb36-fefb-42b3-856b-896e3d936402",
    "papermill": {
     "duration": 23.564076,
     "end_time": "2024-09-18T23:39:36.351800",
     "exception": false,
     "start_time": "2024-09-18T23:39:12.787724",
     "status": "completed"
    },
    "tags": []
   },
   "outputs": [
    {
     "name": "stderr",
     "output_type": "stream",
     "text": [
      "Downloading: \"https://download.pytorch.org/models/vit_h_14_swag-80465313.pth\" to /root/.cache/torch/hub/checkpoints/vit_h_14_swag-80465313.pth\n",
      "100%|██████████| 2.36G/2.36G [00:12<00:00, 195MB/s]\n"
     ]
    }
   ],
   "source": [
    "# 1. Get pretrained weights for ViT-Base\n",
    "pretrained_vit_weights = torchvision.models.ViT_H_14_Weights.DEFAULT\n",
    "\n",
    "# 2. Setup a ViT model instance with pretrained weights\n",
    "pretrained_vit = torchvision.models.vit_h_14(weights=pretrained_vit_weights).to(device)\n",
    "\n",
    "# 3. Freeze the base parameters\n",
    "for parameter in pretrained_vit.parameters():\n",
    "    parameter.requires_grad = False\n",
    "\n",
    "# 4. Change the classifier head\n",
    "class_names = ['31-poloBerenj','30_Zereshk_Polo_Ba_Morgh','29_Tahchin','28_Shirin_polo','27_Salad_kahoo','26_Sabzi_Polo_Ba_Mahi','25_Mirza_Ghasemi','24_Makaroni','23_hamburger','22_Loobia_polo','21-Kuku_Sabzi','20_olovieh','19_pasta_alferedo','18_noodle','17_khorak_jooje','16_Koofteh','15_Kashk-e_Bademjan','14_Kalepache','13_Kalam_Polo','11_Ghormeh _Sabzi','10_Gheimeh','9_Fesenjan', '8_Estamboli', '7_Dolme', '5_khorak_kabab', '4_Baghali_Polo', '3_ash_reshte', '2_Adas Polo', '1_Abgoosht', '0_Khoresh-e Karafs']\n",
    "\n",
    "set_seeds()\n",
    "pretrained_vit.heads = nn.Linear(in_features=1280, out_features=len(class_names)).to(device)\n",
    "# pretrained_vit # uncomment for model output"
   ]
  },
  {
   "cell_type": "code",
   "execution_count": 10,
   "id": "bced82c9",
   "metadata": {
    "execution": {
     "iopub.execute_input": "2024-09-18T23:39:36.398191Z",
     "iopub.status.busy": "2024-09-18T23:39:36.397308Z",
     "iopub.status.idle": "2024-09-18T23:39:47.860960Z",
     "shell.execute_reply": "2024-09-18T23:39:47.860017Z"
    },
    "executionInfo": {
     "elapsed": 1211076,
     "status": "ok",
     "timestamp": 1726324129823,
     "user": {
      "displayName": "cs department food",
      "userId": "17051127671269556399"
     },
     "user_tz": -210
    },
    "id": "kog2q8aTWqnT",
    "outputId": "f3aab87d-bba7-43a0-b736-be3a8c29b725",
    "papermill": {
     "duration": 11.488462,
     "end_time": "2024-09-18T23:39:47.862968",
     "exception": false,
     "start_time": "2024-09-18T23:39:36.374506",
     "status": "completed"
    },
    "tags": []
   },
   "outputs": [
    {
     "data": {
      "text/plain": [
       "============================================================================================================================================\n",
       "Layer (type (var_name))                                      Input Shape          Output Shape         Param #              Trainable\n",
       "============================================================================================================================================\n",
       "VisionTransformer (VisionTransformer)                        [30, 3, 518, 518]    [30, 30]             1,280                Partial\n",
       "├─Conv2d (conv_proj)                                         [30, 3, 518, 518]    [30, 1280, 37, 37]   (753,920)            False\n",
       "├─Encoder (encoder)                                          [30, 1370, 1280]     [30, 1370, 1280]     1,753,600            False\n",
       "│    └─Dropout (dropout)                                     [30, 1370, 1280]     [30, 1370, 1280]     --                   --\n",
       "│    └─Sequential (layers)                                   [30, 1370, 1280]     [30, 1370, 1280]     --                   False\n",
       "│    │    └─EncoderBlock (encoder_layer_0)                   [30, 1370, 1280]     [30, 1370, 1280]     (19,677,440)         False\n",
       "│    │    └─EncoderBlock (encoder_layer_1)                   [30, 1370, 1280]     [30, 1370, 1280]     (19,677,440)         False\n",
       "│    │    └─EncoderBlock (encoder_layer_2)                   [30, 1370, 1280]     [30, 1370, 1280]     (19,677,440)         False\n",
       "│    │    └─EncoderBlock (encoder_layer_3)                   [30, 1370, 1280]     [30, 1370, 1280]     (19,677,440)         False\n",
       "│    │    └─EncoderBlock (encoder_layer_4)                   [30, 1370, 1280]     [30, 1370, 1280]     (19,677,440)         False\n",
       "│    │    └─EncoderBlock (encoder_layer_5)                   [30, 1370, 1280]     [30, 1370, 1280]     (19,677,440)         False\n",
       "│    │    └─EncoderBlock (encoder_layer_6)                   [30, 1370, 1280]     [30, 1370, 1280]     (19,677,440)         False\n",
       "│    │    └─EncoderBlock (encoder_layer_7)                   [30, 1370, 1280]     [30, 1370, 1280]     (19,677,440)         False\n",
       "│    │    └─EncoderBlock (encoder_layer_8)                   [30, 1370, 1280]     [30, 1370, 1280]     (19,677,440)         False\n",
       "│    │    └─EncoderBlock (encoder_layer_9)                   [30, 1370, 1280]     [30, 1370, 1280]     (19,677,440)         False\n",
       "│    │    └─EncoderBlock (encoder_layer_10)                  [30, 1370, 1280]     [30, 1370, 1280]     (19,677,440)         False\n",
       "│    │    └─EncoderBlock (encoder_layer_11)                  [30, 1370, 1280]     [30, 1370, 1280]     (19,677,440)         False\n",
       "│    │    └─EncoderBlock (encoder_layer_12)                  [30, 1370, 1280]     [30, 1370, 1280]     (19,677,440)         False\n",
       "│    │    └─EncoderBlock (encoder_layer_13)                  [30, 1370, 1280]     [30, 1370, 1280]     (19,677,440)         False\n",
       "│    │    └─EncoderBlock (encoder_layer_14)                  [30, 1370, 1280]     [30, 1370, 1280]     (19,677,440)         False\n",
       "│    │    └─EncoderBlock (encoder_layer_15)                  [30, 1370, 1280]     [30, 1370, 1280]     (19,677,440)         False\n",
       "│    │    └─EncoderBlock (encoder_layer_16)                  [30, 1370, 1280]     [30, 1370, 1280]     (19,677,440)         False\n",
       "│    │    └─EncoderBlock (encoder_layer_17)                  [30, 1370, 1280]     [30, 1370, 1280]     (19,677,440)         False\n",
       "│    │    └─EncoderBlock (encoder_layer_18)                  [30, 1370, 1280]     [30, 1370, 1280]     (19,677,440)         False\n",
       "│    │    └─EncoderBlock (encoder_layer_19)                  [30, 1370, 1280]     [30, 1370, 1280]     (19,677,440)         False\n",
       "│    │    └─EncoderBlock (encoder_layer_20)                  [30, 1370, 1280]     [30, 1370, 1280]     (19,677,440)         False\n",
       "│    │    └─EncoderBlock (encoder_layer_21)                  [30, 1370, 1280]     [30, 1370, 1280]     (19,677,440)         False\n",
       "│    │    └─EncoderBlock (encoder_layer_22)                  [30, 1370, 1280]     [30, 1370, 1280]     (19,677,440)         False\n",
       "│    │    └─EncoderBlock (encoder_layer_23)                  [30, 1370, 1280]     [30, 1370, 1280]     (19,677,440)         False\n",
       "│    │    └─EncoderBlock (encoder_layer_24)                  [30, 1370, 1280]     [30, 1370, 1280]     (19,677,440)         False\n",
       "│    │    └─EncoderBlock (encoder_layer_25)                  [30, 1370, 1280]     [30, 1370, 1280]     (19,677,440)         False\n",
       "│    │    └─EncoderBlock (encoder_layer_26)                  [30, 1370, 1280]     [30, 1370, 1280]     (19,677,440)         False\n",
       "│    │    └─EncoderBlock (encoder_layer_27)                  [30, 1370, 1280]     [30, 1370, 1280]     (19,677,440)         False\n",
       "│    │    └─EncoderBlock (encoder_layer_28)                  [30, 1370, 1280]     [30, 1370, 1280]     (19,677,440)         False\n",
       "│    │    └─EncoderBlock (encoder_layer_29)                  [30, 1370, 1280]     [30, 1370, 1280]     (19,677,440)         False\n",
       "│    │    └─EncoderBlock (encoder_layer_30)                  [30, 1370, 1280]     [30, 1370, 1280]     (19,677,440)         False\n",
       "│    │    └─EncoderBlock (encoder_layer_31)                  [30, 1370, 1280]     [30, 1370, 1280]     (19,677,440)         False\n",
       "│    └─LayerNorm (ln)                                        [30, 1370, 1280]     [30, 1370, 1280]     (2,560)              False\n",
       "├─Linear (heads)                                             [30, 1280]           [30, 30]             38,430               True\n",
       "============================================================================================================================================\n",
       "Total params: 632,227,870\n",
       "Trainable params: 38,430\n",
       "Non-trainable params: 632,189,440\n",
       "Total mult-adds (G): 43.56\n",
       "============================================================================================================================================\n",
       "Input size (MB): 96.60\n",
       "Forward/backward pass size (MB): 95114.96\n",
       "Params size (MB): 1682.38\n",
       "Estimated Total Size (MB): 96893.94\n",
       "============================================================================================================================================"
      ]
     },
     "execution_count": 10,
     "metadata": {},
     "output_type": "execute_result"
    }
   ],
   "source": [
    "from torchinfo import summary\n",
    "\n",
    "# Print a summary using torchinfo (uncomment for actual output)\n",
    "summary(model=pretrained_vit,\n",
    "        input_size=(30, 3, 518, 518), # (batch_size, color_channels, height, width)\n",
    "        # col_names=[\"input_size\"], # uncomment for smaller output\n",
    "        col_names=[\"input_size\", \"output_size\", \"num_params\", \"trainable\"],\n",
    "        col_width=20,\n",
    "        row_settings=[\"var_names\"])"
   ]
  },
  {
   "cell_type": "code",
   "execution_count": 11,
   "id": "ec44bdde",
   "metadata": {
    "execution": {
     "iopub.execute_input": "2024-09-18T23:39:47.907737Z",
     "iopub.status.busy": "2024-09-18T23:39:47.907366Z",
     "iopub.status.idle": "2024-09-18T23:39:47.912803Z",
     "shell.execute_reply": "2024-09-18T23:39:47.911935Z"
    },
    "executionInfo": {
     "elapsed": 6,
     "status": "ok",
     "timestamp": 1726324129823,
     "user": {
      "displayName": "cs department food",
      "userId": "17051127671269556399"
     },
     "user_tz": -210
    },
    "id": "Ml8CGo3bXZq3",
    "outputId": "ffebe995-7838-4705-c46f-655c514aff53",
    "papermill": {
     "duration": 0.030105,
     "end_time": "2024-09-18T23:39:47.914767",
     "exception": false,
     "start_time": "2024-09-18T23:39:47.884662",
     "status": "completed"
    },
    "tags": []
   },
   "outputs": [
    {
     "name": "stdout",
     "output_type": "stream",
     "text": [
      "ImageClassification(\n",
      "    crop_size=[518]\n",
      "    resize_size=[518]\n",
      "    mean=[0.485, 0.456, 0.406]\n",
      "    std=[0.229, 0.224, 0.225]\n",
      "    interpolation=InterpolationMode.BICUBIC\n",
      ")\n"
     ]
    }
   ],
   "source": [
    "# Get automatic transforms from pretrained ViT weights\n",
    "pretrained_vit_transforms = pretrained_vit_weights.transforms()\n",
    "print(pretrained_vit_transforms)"
   ]
  },
  {
   "cell_type": "code",
   "execution_count": 12,
   "id": "35c0dbfc",
   "metadata": {
    "execution": {
     "iopub.execute_input": "2024-09-18T23:39:47.959005Z",
     "iopub.status.busy": "2024-09-18T23:39:47.958626Z",
     "iopub.status.idle": "2024-09-18T23:39:47.966073Z",
     "shell.execute_reply": "2024-09-18T23:39:47.965207Z"
    },
    "executionInfo": {
     "elapsed": 4,
     "status": "ok",
     "timestamp": 1726324129824,
     "user": {
      "displayName": "cs department food",
      "userId": "17051127671269556399"
     },
     "user_tz": -210
    },
    "id": "mYjRl30NXal3",
    "papermill": {
     "duration": 0.031848,
     "end_time": "2024-09-18T23:39:47.967908",
     "exception": false,
     "start_time": "2024-09-18T23:39:47.936060",
     "status": "completed"
    },
    "tags": []
   },
   "outputs": [],
   "source": [
    "import os\n",
    "from torchvision import datasets, transforms\n",
    "from torch.utils.data import DataLoader\n",
    "\n",
    "NUM_WORKERS = os.cpu_count()\n",
    "\n",
    "def create_dataloaders(\n",
    "    train_dir: str,\n",
    "    test_dir: str,\n",
    "    transform: transforms.Compose,\n",
    "    batch_size: int,\n",
    "    num_workers: int=NUM_WORKERS\n",
    "):\n",
    "\n",
    "  # Use ImageFolder to create dataset(s)\n",
    "  train_data = datasets.ImageFolder(train_dir, transform=transform)\n",
    "  test_data = datasets.ImageFolder(test_dir, transform=transform)\n",
    "\n",
    "  # Get class names\n",
    "  class_names = train_data.classes\n",
    "\n",
    "  # Turn images into data loaders\n",
    "  train_dataloader = DataLoader(\n",
    "      train_data,\n",
    "      batch_size=batch_size,\n",
    "      shuffle=True,\n",
    "      num_workers=num_workers,\n",
    "      pin_memory=True,\n",
    "  )\n",
    "  test_dataloader = DataLoader(\n",
    "      test_data,\n",
    "      batch_size=batch_size,\n",
    "      shuffle=False,\n",
    "      num_workers=num_workers,\n",
    "      pin_memory=True,\n",
    "  )\n",
    "\n",
    "  return train_dataloader, test_dataloader, class_names\n"
   ]
  },
  {
   "cell_type": "code",
   "execution_count": 13,
   "id": "1c82fbf9",
   "metadata": {
    "execution": {
     "iopub.execute_input": "2024-09-18T23:39:48.012627Z",
     "iopub.status.busy": "2024-09-18T23:39:48.012226Z",
     "iopub.status.idle": "2024-09-18T23:39:48.602486Z",
     "shell.execute_reply": "2024-09-18T23:39:48.601426Z"
    },
    "executionInfo": {
     "elapsed": 5458,
     "status": "ok",
     "timestamp": 1726324135279,
     "user": {
      "displayName": "cs department food",
      "userId": "17051127671269556399"
     },
     "user_tz": -210
    },
    "id": "6omzlOFIY14u",
    "papermill": {
     "duration": 0.615236,
     "end_time": "2024-09-18T23:39:48.604836",
     "exception": false,
     "start_time": "2024-09-18T23:39:47.989600",
     "status": "completed"
    },
    "tags": []
   },
   "outputs": [],
   "source": [
    "# Setup dataloaders\n",
    "train_dataloader_pretrained, test_dataloader_pretrained, class_names = create_dataloaders(train_dir=train_dir,\n",
    "                                                                                                     test_dir=test_dir,\n",
    "                                                                                                     transform=pretrained_vit_transforms,\n",
    "                                                                                                     batch_size=32) # Could increase if we had more samples, such as here: https://arxiv.org/abs/2205.01580 (there are other improvements there too...)"
   ]
  },
  {
   "cell_type": "code",
   "execution_count": 14,
   "id": "52b6dbab",
   "metadata": {
    "execution": {
     "iopub.execute_input": "2024-09-18T23:39:48.653509Z",
     "iopub.status.busy": "2024-09-18T23:39:48.652595Z",
     "iopub.status.idle": "2024-09-19T04:06:55.385647Z",
     "shell.execute_reply": "2024-09-19T04:06:55.384623Z"
    },
    "id": "ARp9mqRWXeIh",
    "papermill": {
     "duration": 16026.788522,
     "end_time": "2024-09-19T04:06:55.417583",
     "exception": false,
     "start_time": "2024-09-18T23:39:48.629061",
     "status": "completed"
    },
    "tags": []
   },
   "outputs": [
    {
     "data": {
      "application/vnd.jupyter.widget-view+json": {
       "model_id": "7ccbf229eaee49ed835ebfd0ced9a6e5",
       "version_major": 2,
       "version_minor": 0
      },
      "text/plain": [
       "  0%|          | 0/10 [00:00<?, ?it/s]"
      ]
     },
     "metadata": {},
     "output_type": "display_data"
    },
    {
     "name": "stderr",
     "output_type": "stream",
     "text": [
      "/opt/conda/lib/python3.10/site-packages/PIL/Image.py:992: UserWarning: Palette images with Transparency expressed in bytes should be converted to RGBA images\n",
      "  warnings.warn(\n",
      "/opt/conda/lib/python3.10/site-packages/PIL/Image.py:992: UserWarning: Palette images with Transparency expressed in bytes should be converted to RGBA images\n",
      "  warnings.warn(\n",
      "/opt/conda/lib/python3.10/site-packages/PIL/Image.py:992: UserWarning: Palette images with Transparency expressed in bytes should be converted to RGBA images\n",
      "  warnings.warn(\n",
      "/opt/conda/lib/python3.10/site-packages/PIL/Image.py:992: UserWarning: Palette images with Transparency expressed in bytes should be converted to RGBA images\n",
      "  warnings.warn(\n"
     ]
    },
    {
     "name": "stdout",
     "output_type": "stream",
     "text": [
      "Epoch: 1 | train_loss: 1.1016 | train_acc: 0.7122 | test_loss: 0.5381 | test_acc: 0.8381\n"
     ]
    },
    {
     "name": "stderr",
     "output_type": "stream",
     "text": [
      "/opt/conda/lib/python3.10/site-packages/PIL/Image.py:992: UserWarning: Palette images with Transparency expressed in bytes should be converted to RGBA images\n",
      "  warnings.warn(\n",
      "/opt/conda/lib/python3.10/site-packages/PIL/Image.py:992: UserWarning: Palette images with Transparency expressed in bytes should be converted to RGBA images\n",
      "  warnings.warn(\n",
      "/opt/conda/lib/python3.10/site-packages/PIL/Image.py:992: UserWarning: Palette images with Transparency expressed in bytes should be converted to RGBA images\n",
      "  warnings.warn(\n",
      "/opt/conda/lib/python3.10/site-packages/PIL/Image.py:992: UserWarning: Palette images with Transparency expressed in bytes should be converted to RGBA images\n",
      "  warnings.warn(\n"
     ]
    },
    {
     "name": "stdout",
     "output_type": "stream",
     "text": [
      "Epoch: 2 | train_loss: 0.3869 | train_acc: 0.8964 | test_loss: 0.4587 | test_acc: 0.8611\n"
     ]
    },
    {
     "name": "stderr",
     "output_type": "stream",
     "text": [
      "/opt/conda/lib/python3.10/site-packages/PIL/Image.py:992: UserWarning: Palette images with Transparency expressed in bytes should be converted to RGBA images\n",
      "  warnings.warn(\n",
      "/opt/conda/lib/python3.10/site-packages/PIL/Image.py:992: UserWarning: Palette images with Transparency expressed in bytes should be converted to RGBA images\n",
      "  warnings.warn(\n",
      "/opt/conda/lib/python3.10/site-packages/PIL/Image.py:992: UserWarning: Palette images with Transparency expressed in bytes should be converted to RGBA images\n",
      "  warnings.warn(\n",
      "/opt/conda/lib/python3.10/site-packages/PIL/Image.py:992: UserWarning: Palette images with Transparency expressed in bytes should be converted to RGBA images\n",
      "  warnings.warn(\n"
     ]
    },
    {
     "name": "stdout",
     "output_type": "stream",
     "text": [
      "Epoch: 3 | train_loss: 0.2591 | train_acc: 0.9368 | test_loss: 0.4197 | test_acc: 0.8734\n"
     ]
    },
    {
     "name": "stderr",
     "output_type": "stream",
     "text": [
      "/opt/conda/lib/python3.10/site-packages/PIL/Image.py:992: UserWarning: Palette images with Transparency expressed in bytes should be converted to RGBA images\n",
      "  warnings.warn(\n",
      "/opt/conda/lib/python3.10/site-packages/PIL/Image.py:992: UserWarning: Palette images with Transparency expressed in bytes should be converted to RGBA images\n",
      "  warnings.warn(\n",
      "/opt/conda/lib/python3.10/site-packages/PIL/Image.py:992: UserWarning: Palette images with Transparency expressed in bytes should be converted to RGBA images\n",
      "  warnings.warn(\n",
      "/opt/conda/lib/python3.10/site-packages/PIL/Image.py:992: UserWarning: Palette images with Transparency expressed in bytes should be converted to RGBA images\n",
      "  warnings.warn(\n"
     ]
    },
    {
     "name": "stdout",
     "output_type": "stream",
     "text": [
      "Epoch: 4 | train_loss: 0.1971 | train_acc: 0.9486 | test_loss: 0.4044 | test_acc: 0.8801\n"
     ]
    },
    {
     "name": "stderr",
     "output_type": "stream",
     "text": [
      "/opt/conda/lib/python3.10/site-packages/PIL/Image.py:992: UserWarning: Palette images with Transparency expressed in bytes should be converted to RGBA images\n",
      "  warnings.warn(\n",
      "/opt/conda/lib/python3.10/site-packages/PIL/Image.py:992: UserWarning: Palette images with Transparency expressed in bytes should be converted to RGBA images\n",
      "  warnings.warn(\n",
      "/opt/conda/lib/python3.10/site-packages/PIL/Image.py:992: UserWarning: Palette images with Transparency expressed in bytes should be converted to RGBA images\n",
      "  warnings.warn(\n"
     ]
    },
    {
     "name": "stdout",
     "output_type": "stream",
     "text": [
      "Epoch: 5 | train_loss: 0.1451 | train_acc: 0.9677 | test_loss: 0.3798 | test_acc: 0.8884\n"
     ]
    },
    {
     "name": "stderr",
     "output_type": "stream",
     "text": [
      "/opt/conda/lib/python3.10/site-packages/PIL/Image.py:992: UserWarning: Palette images with Transparency expressed in bytes should be converted to RGBA images\n",
      "  warnings.warn(\n",
      "/opt/conda/lib/python3.10/site-packages/PIL/Image.py:992: UserWarning: Palette images with Transparency expressed in bytes should be converted to RGBA images\n",
      "  warnings.warn(\n",
      "/opt/conda/lib/python3.10/site-packages/PIL/Image.py:992: UserWarning: Palette images with Transparency expressed in bytes should be converted to RGBA images\n",
      "  warnings.warn(\n",
      "/opt/conda/lib/python3.10/site-packages/PIL/Image.py:992: UserWarning: Palette images with Transparency expressed in bytes should be converted to RGBA images\n",
      "  warnings.warn(\n"
     ]
    },
    {
     "name": "stdout",
     "output_type": "stream",
     "text": [
      "Epoch: 6 | train_loss: 0.1174 | train_acc: 0.9774 | test_loss: 0.3497 | test_acc: 0.8992\n"
     ]
    },
    {
     "name": "stderr",
     "output_type": "stream",
     "text": [
      "/opt/conda/lib/python3.10/site-packages/PIL/Image.py:992: UserWarning: Palette images with Transparency expressed in bytes should be converted to RGBA images\n",
      "  warnings.warn(\n",
      "/opt/conda/lib/python3.10/site-packages/PIL/Image.py:992: UserWarning: Palette images with Transparency expressed in bytes should be converted to RGBA images\n",
      "  warnings.warn(\n",
      "/opt/conda/lib/python3.10/site-packages/PIL/Image.py:992: UserWarning: Palette images with Transparency expressed in bytes should be converted to RGBA images\n",
      "  warnings.warn(\n",
      "/opt/conda/lib/python3.10/site-packages/PIL/Image.py:992: UserWarning: Palette images with Transparency expressed in bytes should be converted to RGBA images\n",
      "  warnings.warn(\n"
     ]
    },
    {
     "name": "stdout",
     "output_type": "stream",
     "text": [
      "Epoch: 7 | train_loss: 0.0889 | train_acc: 0.9876 | test_loss: 0.3426 | test_acc: 0.9034\n"
     ]
    },
    {
     "name": "stderr",
     "output_type": "stream",
     "text": [
      "/opt/conda/lib/python3.10/site-packages/PIL/Image.py:992: UserWarning: Palette images with Transparency expressed in bytes should be converted to RGBA images\n",
      "  warnings.warn(\n",
      "/opt/conda/lib/python3.10/site-packages/PIL/Image.py:992: UserWarning: Palette images with Transparency expressed in bytes should be converted to RGBA images\n",
      "  warnings.warn(\n",
      "/opt/conda/lib/python3.10/site-packages/PIL/Image.py:992: UserWarning: Palette images with Transparency expressed in bytes should be converted to RGBA images\n",
      "  warnings.warn(\n",
      "/opt/conda/lib/python3.10/site-packages/PIL/Image.py:992: UserWarning: Palette images with Transparency expressed in bytes should be converted to RGBA images\n",
      "  warnings.warn(\n"
     ]
    },
    {
     "name": "stdout",
     "output_type": "stream",
     "text": [
      "Epoch: 8 | train_loss: 0.0738 | train_acc: 0.9896 | test_loss: 0.3396 | test_acc: 0.9047\n"
     ]
    },
    {
     "name": "stderr",
     "output_type": "stream",
     "text": [
      "/opt/conda/lib/python3.10/site-packages/PIL/Image.py:992: UserWarning: Palette images with Transparency expressed in bytes should be converted to RGBA images\n",
      "  warnings.warn(\n",
      "/opt/conda/lib/python3.10/site-packages/PIL/Image.py:992: UserWarning: Palette images with Transparency expressed in bytes should be converted to RGBA images\n",
      "  warnings.warn(\n",
      "/opt/conda/lib/python3.10/site-packages/PIL/Image.py:992: UserWarning: Palette images with Transparency expressed in bytes should be converted to RGBA images\n",
      "  warnings.warn(\n",
      "/opt/conda/lib/python3.10/site-packages/PIL/Image.py:992: UserWarning: Palette images with Transparency expressed in bytes should be converted to RGBA images\n",
      "  warnings.warn(\n"
     ]
    },
    {
     "name": "stdout",
     "output_type": "stream",
     "text": [
      "Epoch: 9 | train_loss: 0.0599 | train_acc: 0.9943 | test_loss: 0.3521 | test_acc: 0.8952\n"
     ]
    },
    {
     "name": "stderr",
     "output_type": "stream",
     "text": [
      "/opt/conda/lib/python3.10/site-packages/PIL/Image.py:992: UserWarning: Palette images with Transparency expressed in bytes should be converted to RGBA images\n",
      "  warnings.warn(\n",
      "/opt/conda/lib/python3.10/site-packages/PIL/Image.py:992: UserWarning: Palette images with Transparency expressed in bytes should be converted to RGBA images\n",
      "  warnings.warn(\n",
      "/opt/conda/lib/python3.10/site-packages/PIL/Image.py:992: UserWarning: Palette images with Transparency expressed in bytes should be converted to RGBA images\n",
      "  warnings.warn(\n",
      "/opt/conda/lib/python3.10/site-packages/PIL/Image.py:992: UserWarning: Palette images with Transparency expressed in bytes should be converted to RGBA images\n",
      "  warnings.warn(\n",
      "/opt/conda/lib/python3.10/site-packages/PIL/Image.py:992: UserWarning: Palette images with Transparency expressed in bytes should be converted to RGBA images\n",
      "  warnings.warn(\n"
     ]
    },
    {
     "name": "stdout",
     "output_type": "stream",
     "text": [
      "Epoch: 10 | train_loss: 0.0528 | train_acc: 0.9946 | test_loss: 0.3448 | test_acc: 0.8966\n"
     ]
    }
   ],
   "source": [
    "# Create optimizer and loss function\n",
    "optimizer = torch.optim.Adam(params=pretrained_vit.parameters(),\n",
    "                             lr=1e-3)\n",
    "loss_fn = torch.nn.CrossEntropyLoss()\n",
    "\n",
    "# Train the classifier head of the pretrained ViT feature extractor model\n",
    "set_seeds()\n",
    "pretrained_vit_results = en_train(model=pretrained_vit,\n",
    "                                      train_dataloader=train_dataloader_pretrained,\n",
    "                                      test_dataloader=test_dataloader_pretrained,\n",
    "                                      optimizer=optimizer,\n",
    "                                      loss_fn=loss_fn,\n",
    "                                      epochs=10,\n",
    "                                      device=device)"
   ]
  },
  {
   "cell_type": "code",
   "execution_count": 15,
   "id": "7a1d7637",
   "metadata": {
    "execution": {
     "iopub.execute_input": "2024-09-19T04:06:55.475412Z",
     "iopub.status.busy": "2024-09-19T04:06:55.474429Z",
     "iopub.status.idle": "2024-09-19T04:06:56.043999Z",
     "shell.execute_reply": "2024-09-19T04:06:56.043064Z"
    },
    "id": "6eJRpVY8XhN1",
    "papermill": {
     "duration": 0.602376,
     "end_time": "2024-09-19T04:06:56.046347",
     "exception": false,
     "start_time": "2024-09-19T04:06:55.443971",
     "status": "completed"
    },
    "tags": []
   },
   "outputs": [
    {
     "data": {
      "image/png": "[encoded data removed]",
      "text/plain": [
       "<Figure size 1500x700 with 2 Axes>"
      ]
     },
     "metadata": {},
     "output_type": "display_data"
    }
   ],
   "source": [
    "# Plot the loss curves\n",
    "plot_loss_curves(pretrained_vit_results)"
   ]
  },
  {
   "cell_type": "code",
   "execution_count": 16,
   "id": "a69b7ace",
   "metadata": {
    "execution": {
     "iopub.execute_input": "2024-09-19T04:06:56.100555Z",
     "iopub.status.busy": "2024-09-19T04:06:56.099890Z",
     "iopub.status.idle": "2024-09-19T04:11:24.179580Z",
     "shell.execute_reply": "2024-09-19T04:11:24.178558Z"
    },
    "id": "kTIH_js9XEtH",
    "papermill": {
     "duration": 268.141434,
     "end_time": "2024-09-19T04:11:24.214178",
     "exception": false,
     "start_time": "2024-09-19T04:06:56.072744",
     "status": "completed"
    },
    "tags": []
   },
   "outputs": [
    {
     "name": "stderr",
     "output_type": "stream",
     "text": [
      "/opt/conda/lib/python3.10/site-packages/PIL/Image.py:992: UserWarning: Palette images with Transparency expressed in bytes should be converted to RGBA images\n",
      "  warnings.warn(\n"
     ]
    },
    {
     "data": {
      "image/png": "[encoded data removed]",
      "text/plain": [
       "<Figure size 2000x1600 with 2 Axes>"
      ]
     },
     "metadata": {},
     "output_type": "display_data"
    }
   ],
   "source": [
    "# CONFUSION MATRIX\n",
    "\n",
    "from sklearn.metrics import confusion_matrix, ConfusionMatrixDisplay\n",
    "\n",
    "# Step 1: Get all true labels and predictions from the test dataset\n",
    "all_labels = []\n",
    "all_preds = []\n",
    "\n",
    "pretrained_vit.eval()  # Set the model to evaluation mode\n",
    "with torch.inference_mode():\n",
    "    for images, labels in test_dataloader_pretrained:\n",
    "        images, labels = images.to(device), labels.to(device)\n",
    "        outputs = pretrained_vit(images)\n",
    "        _, preds = torch.max(outputs, 1)\n",
    "        all_labels.extend(labels.cpu().numpy())\n",
    "        all_preds.extend(preds.cpu().numpy())\n",
    "\n",
    "# Step 2: Create the confusion matrix\n",
    "# cm = confusion_matrix(all_labels, all_preds)\n",
    "\n",
    "# # Step 3: Plot the confusion matrix\n",
    "# disp = ConfusionMatrixDisplay(confusion_matrix=cm, display_labels=class_names)\n",
    "# disp.plot(cmap=plt.cm.Blues, values_format='d')\n",
    "\n",
    "\n",
    "# plt.xticks(rotation=45)\n",
    "# plt.show()\n",
    "\n",
    "\n",
    "import matplotlib.pyplot as plt\n",
    "import seaborn as sns\n",
    "from sklearn.metrics import confusion_matrix\n",
    "\n",
    "\n",
    "# Create the confusion matrix\n",
    "cm = confusion_matrix(all_labels, all_preds)\n",
    "\n",
    "# Plot the confusion matrix\n",
    "plt.figure(figsize=(20, 16))\n",
    "sns.heatmap(cm, annot=True, fmt='d', cmap='Blues', xticklabels=class_names, yticklabels=class_names)\n",
    "plt.xlabel('Predicted label')\n",
    "plt.ylabel('True label')\n",
    "plt.xticks(rotation=90, ha='right')\n",
    "plt.yticks(rotation=0)\n",
    "plt.tight_layout()\n",
    "plt.show()"
   ]
  },
  {
   "cell_type": "markdown",
   "id": "d30f2c6c",
   "metadata": {
    "id": "S7Vw2dPXsQpn",
    "papermill": {
     "duration": 0.02843,
     "end_time": "2024-09-19T04:11:24.271742",
     "exception": false,
     "start_time": "2024-09-19T04:11:24.243312",
     "status": "completed"
    },
    "tags": []
   },
   "source": [
    "# **Result**"
   ]
  },
  {
   "cell_type": "code",
   "execution_count": 17,
   "id": "31274e5e",
   "metadata": {
    "execution": {
     "iopub.execute_input": "2024-09-19T04:11:24.372454Z",
     "iopub.status.busy": "2024-09-19T04:11:24.371878Z",
     "iopub.status.idle": "2024-09-19T04:11:24.377289Z",
     "shell.execute_reply": "2024-09-19T04:11:24.376394Z"
    },
    "id": "Wqg8eje1iR-j",
    "papermill": {
     "duration": 0.037505,
     "end_time": "2024-09-19T04:11:24.379129",
     "exception": false,
     "start_time": "2024-09-19T04:11:24.341624",
     "status": "completed"
    },
    "tags": []
   },
   "outputs": [],
   "source": [
    "\n",
    "\n",
    "# Create image size\n",
    "IMG_SIZE = 518\n",
    "\n",
    "# Create transform pipeline manually\n",
    "manual_transforms = transforms.Compose([\n",
    "    transforms.Resize((IMG_SIZE, IMG_SIZE)),\n",
    "    transforms.ToTensor(),\n",
    "])"
   ]
  },
  {
   "cell_type": "code",
   "execution_count": 18,
   "id": "575310d7",
   "metadata": {
    "execution": {
     "iopub.execute_input": "2024-09-19T04:11:24.437832Z",
     "iopub.status.busy": "2024-09-19T04:11:24.437241Z",
     "iopub.status.idle": "2024-09-19T04:11:25.360175Z",
     "shell.execute_reply": "2024-09-19T04:11:25.358894Z"
    },
    "id": "wau-DKp4XxZE",
    "papermill": {
     "duration": 0.954039,
     "end_time": "2024-09-19T04:11:25.361877",
     "exception": true,
     "start_time": "2024-09-19T04:11:24.407838",
     "status": "failed"
    },
    "tags": []
   },
   "outputs": [
    {
     "ename": "FileNotFoundError",
     "evalue": "[Errno 2] No such file or directory: '/content/try1.jpg'",
     "output_type": "error",
     "traceback": [
      "\u001b[0;31m---------------------------------------------------------------------------\u001b[0m",
      "\u001b[0;31mFileNotFoundError\u001b[0m                         Traceback (most recent call last)",
      "Cell \u001b[0;32mIn[18], line 7\u001b[0m\n\u001b[1;32m      4\u001b[0m custom_image_path \u001b[38;5;241m=\u001b[39m \u001b[38;5;124m'\u001b[39m\u001b[38;5;124m/content/try1.jpg\u001b[39m\u001b[38;5;124m'\u001b[39m\n\u001b[1;32m      6\u001b[0m \u001b[38;5;66;03m# Predict on custom image\u001b[39;00m\n\u001b[0;32m----> 7\u001b[0m \u001b[43mpred_and_plot_image\u001b[49m\u001b[43m(\u001b[49m\u001b[43mmodel\u001b[49m\u001b[38;5;241;43m=\u001b[39;49m\u001b[43mpretrained_vit\u001b[49m\u001b[43m,\u001b[49m\n\u001b[1;32m      8\u001b[0m \u001b[43m                    \u001b[49m\u001b[43mimage_path\u001b[49m\u001b[38;5;241;43m=\u001b[39;49m\u001b[43mcustom_image_path\u001b[49m\u001b[43m,\u001b[49m\n\u001b[1;32m      9\u001b[0m \u001b[43m                    \u001b[49m\u001b[43mtransform\u001b[49m\u001b[38;5;241;43m=\u001b[39;49m\u001b[43mmanual_transforms\u001b[49m\u001b[43m,\u001b[49m\n\u001b[1;32m     10\u001b[0m \u001b[43m                    \u001b[49m\u001b[43mclass_names\u001b[49m\u001b[38;5;241;43m=\u001b[39;49m\u001b[43mclass_names\u001b[49m\u001b[43m)\u001b[49m\n",
      "Cell \u001b[0;32mIn[8], line 40\u001b[0m, in \u001b[0;36mpred_and_plot_image\u001b[0;34m(model, class_names, image_path, image_size, transform, device)\u001b[0m\n\u001b[1;32m     28\u001b[0m \u001b[38;5;250m\u001b[39m\u001b[38;5;124;03m\"\"\"Predicts on a target image with a target model.\u001b[39;00m\n\u001b[1;32m     29\u001b[0m \n\u001b[1;32m     30\u001b[0m \u001b[38;5;124;03mArgs:\u001b[39;00m\n\u001b[0;32m   (...)\u001b[0m\n\u001b[1;32m     36\u001b[0m \u001b[38;5;124;03m    device (torch.device, optional): Target device to perform prediction on. Defaults to device.\u001b[39;00m\n\u001b[1;32m     37\u001b[0m \u001b[38;5;124;03m\"\"\"\u001b[39;00m\n\u001b[1;32m     39\u001b[0m \u001b[38;5;66;03m# Open image\u001b[39;00m\n\u001b[0;32m---> 40\u001b[0m img \u001b[38;5;241m=\u001b[39m \u001b[43mImage\u001b[49m\u001b[38;5;241;43m.\u001b[39;49m\u001b[43mopen\u001b[49m\u001b[43m(\u001b[49m\u001b[43mimage_path\u001b[49m\u001b[43m)\u001b[49m\n\u001b[1;32m     42\u001b[0m \u001b[38;5;66;03m# Create transformation for image (if one doesn't exist)\u001b[39;00m\n\u001b[1;32m     43\u001b[0m \u001b[38;5;28;01mif\u001b[39;00m transform \u001b[38;5;129;01mis\u001b[39;00m \u001b[38;5;129;01mnot\u001b[39;00m \u001b[38;5;28;01mNone\u001b[39;00m:\n",
      "File \u001b[0;32m/opt/conda/lib/python3.10/site-packages/PIL/Image.py:3236\u001b[0m, in \u001b[0;36mopen\u001b[0;34m(fp, mode, formats)\u001b[0m\n\u001b[1;32m   3233\u001b[0m     filename \u001b[38;5;241m=\u001b[39m fp\n\u001b[1;32m   3235\u001b[0m \u001b[38;5;28;01mif\u001b[39;00m filename:\n\u001b[0;32m-> 3236\u001b[0m     fp \u001b[38;5;241m=\u001b[39m \u001b[43mbuiltins\u001b[49m\u001b[38;5;241;43m.\u001b[39;49m\u001b[43mopen\u001b[49m\u001b[43m(\u001b[49m\u001b[43mfilename\u001b[49m\u001b[43m,\u001b[49m\u001b[43m \u001b[49m\u001b[38;5;124;43m\"\u001b[39;49m\u001b[38;5;124;43mrb\u001b[39;49m\u001b[38;5;124;43m\"\u001b[39;49m\u001b[43m)\u001b[49m\n\u001b[1;32m   3237\u001b[0m     exclusive_fp \u001b[38;5;241m=\u001b[39m \u001b[38;5;28;01mTrue\u001b[39;00m\n\u001b[1;32m   3239\u001b[0m \u001b[38;5;28;01mtry\u001b[39;00m:\n",
      "\u001b[0;31mFileNotFoundError\u001b[0m: [Errno 2] No such file or directory: '/content/try1.jpg'"
     ]
    }
   ],
   "source": [
    "import requests\n",
    "\n",
    "# Setup custom image path\n",
    "custom_image_path = '/content/try1.jpg'\n",
    "\n",
    "# Predict on custom image\n",
    "pred_and_plot_image(model=pretrained_vit,\n",
    "                    image_path=custom_image_path,\n",
    "                    transform=manual_transforms,\n",
    "                    class_names=class_names)"
   ]
  },
  {
   "cell_type": "code",
   "execution_count": null,
   "id": "b804f984",
   "metadata": {
    "execution": {
     "iopub.status.busy": "2024-09-18T23:24:38.075994Z",
     "iopub.status.idle": "2024-09-18T23:24:38.076486Z",
     "shell.execute_reply": "2024-09-18T23:24:38.076257Z",
     "shell.execute_reply.started": "2024-09-18T23:24:38.076230Z"
    },
    "id": "a_ae7AfQjO3Q",
    "papermill": {
     "duration": null,
     "end_time": null,
     "exception": null,
     "start_time": null,
     "status": "pending"
    },
    "tags": []
   },
   "outputs": [],
   "source": [
    "import requests\n",
    "\n",
    "# Setup custom image path\n",
    "custom_image_path = '/content/try2.jpg'\n",
    "\n",
    "# Predict on custom image\n",
    "pred_and_plot_image(model=pretrained_vit,\n",
    "                    image_path=custom_image_path,\n",
    "                    transform=manual_transforms,\n",
    "                    class_names=class_names)"
   ]
  },
  {
   "cell_type": "code",
   "execution_count": null,
   "id": "26d9d44a",
   "metadata": {
    "execution": {
     "iopub.status.busy": "2024-09-18T23:24:38.078327Z",
     "iopub.status.idle": "2024-09-18T23:24:38.078820Z",
     "shell.execute_reply": "2024-09-18T23:24:38.078585Z",
     "shell.execute_reply.started": "2024-09-18T23:24:38.078552Z"
    },
    "id": "QxnN6fC9kKrN",
    "papermill": {
     "duration": null,
     "end_time": null,
     "exception": null,
     "start_time": null,
     "status": "pending"
    },
    "tags": []
   },
   "outputs": [],
   "source": [
    "import requests\n",
    "\n",
    "# Setup custom image path\n",
    "custom_image_path = '/content/karafs.JPG'\n",
    "\n",
    "# Predict on custom image\n",
    "pred_and_plot_image(model=pretrained_vit,\n",
    "                    image_path=custom_image_path,\n",
    "                    transform=manual_transforms,\n",
    "                    class_names=class_names)"
   ]
  },
  {
   "cell_type": "code",
   "execution_count": null,
   "id": "4c9adc22",
   "metadata": {
    "id": "sUz2saNFlb0h",
    "papermill": {
     "duration": null,
     "end_time": null,
     "exception": null,
     "start_time": null,
     "status": "pending"
    },
    "tags": []
   },
   "outputs": [],
   "source": []
  }
 ],
 "metadata": {
  "accelerator": "GPU",
  "colab": {
   "authorship_tag": "ABX9TyPtNvIxXsE54lf6kPdRZnyt",
   "gpuType": "T4",
   "name": "",
   "version": ""
  },
  "kaggle": {
   "accelerator": "gpu",
   "dataSources": [
    {
     "datasetId": 5726744,
     "sourceId": 9427156,
     "sourceType": "datasetVersion"
    }
   ],
   "dockerImageVersionId": 30762,
   "isGpuEnabled": true,
   "isInternetEnabled": true,
   "language": "python",
   "sourceType": "notebook"
  },
  "kernelspec": {
   "display_name": "Python 3",
   "language": "python",
   "name": "python3"
  },
  "language_info": {
   "codemirror_mode": {
    "name": "ipython",
    "version": 3
   },
   "file_extension": ".py",
   "mimetype": "text/x-python",
   "name": "python",
   "nbconvert_exporter": "python",
   "pygments_lexer": "ipython3",
   "version": "3.10.14"
  },
  "papermill": {
   "default_parameters": {},
   "duration": 16357.291629,
   "end_time": "2024-09-19T04:11:27.849081",
   "environment_variables": {},
   "exception": true,
   "input_path": "__notebook__.ipynb",
   "output_path": "__notebook__.ipynb",
   "parameters": {},
   "start_time": "2024-09-18T23:38:50.557452",
   "version": "2.6.0"
  },
  "widgets": {
   "application/vnd.jupyter.widget-state+json": {
    "state": {
     "0d156dc1038143b99093df1d262dfb94": {
      "model_module": "@jupyter-widgets/controls",
      "model_module_version": "1.5.0",
      "model_name": "ProgressStyleModel",
      "state": {
       "_model_module": "@jupyter-widgets/controls",
       "_model_module_version": "1.5.0",
       "_model_name": "ProgressStyleModel",
       "_view_count": null,
       "_view_module": "@jupyter-widgets/base",
       "_view_module_version": "1.2.0",
       "_view_name": "StyleView",
       "bar_color": null,
       "description_width": ""
      }
     },
     "34bf0364c4534899b69e37a5d4f87056": {
      "model_module": "@jupyter-widgets/base",
      "model_module_version": "1.2.0",
      "model_name": "LayoutModel",
      "state": {
       "_model_module": "@jupyter-widgets/base",
       "_model_module_version": "1.2.0",
       "_model_name": "LayoutModel",
       "_view_count": null,
       "_view_module": "@jupyter-widgets/base",
       "_view_module_version": "1.2.0",
       "_view_name": "LayoutView",
       "align_content": null,
       "align_items": null,
       "align_self": null,
       "border": null,
       "bottom": null,
       "display": null,
       "flex": null,
       "flex_flow": null,
       "grid_area": null,
       "grid_auto_columns": null,
       "grid_auto_flow": null,
       "grid_auto_rows": null,
       "grid_column": null,
       "grid_gap": null,
       "grid_row": null,
       "grid_template_areas": null,
       "grid_template_columns": null,
       "grid_template_rows": null,
       "height": null,
       "justify_content": null,
       "justify_items": null,
       "left": null,
       "margin": null,
       "max_height": null,
       "max_width": null,
       "min_height": null,
       "min_width": null,
       "object_fit": null,
       "object_position": null,
       "order": null,
       "overflow": null,
       "overflow_x": null,
       "overflow_y": null,
       "padding": null,
       "right": null,
       "top": null,
       "visibility": null,
       "width": null
      }
     },
     "7a073ed88c18403eb4172f254d369561": {
      "model_module": "@jupyter-widgets/base",
      "model_module_version": "1.2.0",
      "model_name": "LayoutModel",
      "state": {
       "_model_module": "@jupyter-widgets/base",
       "_model_module_version": "1.2.0",
       "_model_name": "LayoutModel",
       "_view_count": null,
       "_view_module": "@jupyter-widgets/base",
       "_view_module_version": "1.2.0",
       "_view_name": "LayoutView",
       "align_content": null,
       "align_items": null,
       "align_self": null,
       "border": null,
       "bottom": null,
       "display": null,
       "flex": null,
       "flex_flow": null,
       "grid_area": null,
       "grid_auto_columns": null,
       "grid_auto_flow": null,
       "grid_auto_rows": null,
       "grid_column": null,
       "grid_gap": null,
       "grid_row": null,
       "grid_template_areas": null,
       "grid_template_columns": null,
       "grid_template_rows": null,
       "height": null,
       "justify_content": null,
       "justify_items": null,
       "left": null,
       "margin": null,
       "max_height": null,
       "max_width": null,
       "min_height": null,
       "min_width": null,
       "object_fit": null,
       "object_position": null,
       "order": null,
       "overflow": null,
       "overflow_x": null,
       "overflow_y": null,
       "padding": null,
       "right": null,
       "top": null,
       "visibility": null,
       "width": null
      }
     },
     "7ccbf229eaee49ed835ebfd0ced9a6e5": {
      "model_module": "@jupyter-widgets/controls",
      "model_module_version": "1.5.0",
      "model_name": "HBoxModel",
      "state": {
       "_dom_classes": [],
       "_model_module": "@jupyter-widgets/controls",
       "_model_module_version": "1.5.0",
       "_model_name": "HBoxModel",
       "_view_count": null,
       "_view_module": "@jupyter-widgets/controls",
       "_view_module_version": "1.5.0",
       "_view_name": "HBoxView",
       "box_style": "",
       "children": [
        "IPY_MODEL_ea09a44dc9be42db8d0ca26c1988a1a6",
        "IPY_MODEL_909dd5c7e71a4e4ba8b72d2659ba4ac8",
        "IPY_MODEL_92172e525cad4379979a2c603ab4f8e7"
       ],
       "layout": "IPY_MODEL_34bf0364c4534899b69e37a5d4f87056"
      }
     },
     "8df0e0ccee2b48988927ca81db81acf8": {
      "model_module": "@jupyter-widgets/controls",
      "model_module_version": "1.5.0",
      "model_name": "DescriptionStyleModel",
      "state": {
       "_model_module": "@jupyter-widgets/controls",
       "_model_module_version": "1.5.0",
       "_model_name": "DescriptionStyleModel",
       "_view_count": null,
       "_view_module": "@jupyter-widgets/base",
       "_view_module_version": "1.2.0",
       "_view_name": "StyleView",
       "description_width": ""
      }
     },
     "909dd5c7e71a4e4ba8b72d2659ba4ac8": {
      "model_module": "@jupyter-widgets/controls",
      "model_module_version": "1.5.0",
      "model_name": "FloatProgressModel",
      "state": {
       "_dom_classes": [],
       "_model_module": "@jupyter-widgets/controls",
       "_model_module_version": "1.5.0",
       "_model_name": "FloatProgressModel",
       "_view_count": null,
       "_view_module": "@jupyter-widgets/controls",
       "_view_module_version": "1.5.0",
       "_view_name": "ProgressView",
       "bar_style": "success",
       "description": "",
       "description_tooltip": null,
       "layout": "IPY_MODEL_a628613dd2b140c499da90c3f0895c9b",
       "max": 10.0,
       "min": 0.0,
       "orientation": "horizontal",
       "style": "IPY_MODEL_0d156dc1038143b99093df1d262dfb94",
       "value": 10.0
      }
     },
     "92172e525cad4379979a2c603ab4f8e7": {
      "model_module": "@jupyter-widgets/controls",
      "model_module_version": "1.5.0",
      "model_name": "HTMLModel",
      "state": {
       "_dom_classes": [],
       "_model_module": "@jupyter-widgets/controls",
       "_model_module_version": "1.5.0",
       "_model_name": "HTMLModel",
       "_view_count": null,
       "_view_module": "@jupyter-widgets/controls",
       "_view_module_version": "1.5.0",
       "_view_name": "HTMLView",
       "description": "",
       "description_tooltip": null,
       "layout": "IPY_MODEL_b7ea27a85a694fb1af2adce3e89a133e",
       "placeholder": "​",
       "style": "IPY_MODEL_8df0e0ccee2b48988927ca81db81acf8",
       "value": " 10/10 [4:27:06&lt;00:00, 1602.96s/it]"
      }
     },
     "947fe815c9fb44d29de71b2db99877ca": {
      "model_module": "@jupyter-widgets/controls",
      "model_module_version": "1.5.0",
      "model_name": "DescriptionStyleModel",
      "state": {
       "_model_module": "@jupyter-widgets/controls",
       "_model_module_version": "1.5.0",
       "_model_name": "DescriptionStyleModel",
       "_view_count": null,
       "_view_module": "@jupyter-widgets/base",
       "_view_module_version": "1.2.0",
       "_view_name": "StyleView",
       "description_width": ""
      }
     },
     "a628613dd2b140c499da90c3f0895c9b": {
      "model_module": "@jupyter-widgets/base",
      "model_module_version": "1.2.0",
      "model_name": "LayoutModel",
      "state": {
       "_model_module": "@jupyter-widgets/base",
       "_model_module_version": "1.2.0",
       "_model_name": "LayoutModel",
       "_view_count": null,
       "_view_module": "@jupyter-widgets/base",
       "_view_module_version": "1.2.0",
       "_view_name": "LayoutView",
       "align_content": null,
       "align_items": null,
       "align_self": null,
       "border": null,
       "bottom": null,
       "display": null,
       "flex": null,
       "flex_flow": null,
       "grid_area": null,
       "grid_auto_columns": null,
       "grid_auto_flow": null,
       "grid_auto_rows": null,
       "grid_column": null,
       "grid_gap": null,
       "grid_row": null,
       "grid_template_areas": null,
       "grid_template_columns": null,
       "grid_template_rows": null,
       "height": null,
       "justify_content": null,
       "justify_items": null,
       "left": null,
       "margin": null,
       "max_height": null,
       "max_width": null,
       "min_height": null,
       "min_width": null,
       "object_fit": null,
       "object_position": null,
       "order": null,
       "overflow": null,
       "overflow_x": null,
       "overflow_y": null,
       "padding": null,
       "right": null,
       "top": null,
       "visibility": null,
       "width": null
      }
     },
     "b7ea27a85a694fb1af2adce3e89a133e": {
      "model_module": "@jupyter-widgets/base",
      "model_module_version": "1.2.0",
      "model_name": "LayoutModel",
      "state": {
       "_model_module": "@jupyter-widgets/base",
       "_model_module_version": "1.2.0",
       "_model_name": "LayoutModel",
       "_view_count": null,
       "_view_module": "@jupyter-widgets/base",
       "_view_module_version": "1.2.0",
       "_view_name": "LayoutView",
       "align_content": null,
       "align_items": null,
       "align_self": null,
       "border": null,
       "bottom": null,
       "display": null,
       "flex": null,
       "flex_flow": null,
       "grid_area": null,
       "grid_auto_columns": null,
       "grid_auto_flow": null,
       "grid_auto_rows": null,
       "grid_column": null,
       "grid_gap": null,
       "grid_row": null,
       "grid_template_areas": null,
       "grid_template_columns": null,
       "grid_template_rows": null,
       "height": null,
       "justify_content": null,
       "justify_items": null,
       "left": null,
       "margin": null,
       "max_height": null,
       "max_width": null,
       "min_height": null,
       "min_width": null,
       "object_fit": null,
       "object_position": null,
       "order": null,
       "overflow": null,
       "overflow_x": null,
       "overflow_y": null,
       "padding": null,
       "right": null,
       "top": null,
       "visibility": null,
       "width": null
      }
     },
     "ea09a44dc9be42db8d0ca26c1988a1a6": {
      "model_module": "@jupyter-widgets/controls",
      "model_module_version": "1.5.0",
      "model_name": "HTMLModel",
      "state": {
       "_dom_classes": [],
       "_model_module": "@jupyter-widgets/controls",
       "_model_module_version": "1.5.0",
       "_model_name": "HTMLModel",
       "_view_count": null,
       "_view_module": "@jupyter-widgets/controls",
       "_view_module_version": "1.5.0",
       "_view_name": "HTMLView",
       "description": "",
       "description_tooltip": null,
       "layout": "IPY_MODEL_7a073ed88c18403eb4172f254d369561",
       "placeholder": "​",
       "style": "IPY_MODEL_947fe815c9fb44d29de71b2db99877ca",
       "value": "100%"
      }
     }
    },
    "version_major": 2,
    "version_minor": 0
   }
  }
 },
 "nbformat": 4,
 "nbformat_minor": 5
}
